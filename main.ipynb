{
 "cells": [
  {
   "cell_type": "code",
   "execution_count": 1,
   "id": "52e07a43",
   "metadata": {},
   "outputs": [
    {
     "data": {
      "text/html": [
       "<div>\n",
       "<style scoped>\n",
       "    .dataframe tbody tr th:only-of-type {\n",
       "        vertical-align: middle;\n",
       "    }\n",
       "\n",
       "    .dataframe tbody tr th {\n",
       "        vertical-align: top;\n",
       "    }\n",
       "\n",
       "    .dataframe thead th {\n",
       "        text-align: right;\n",
       "    }\n",
       "</style>\n",
       "<table border=\"1\" class=\"dataframe\">\n",
       "  <thead>\n",
       "    <tr style=\"text-align: right;\">\n",
       "      <th></th>\n",
       "      <th>id</th>\n",
       "      <th>Adjective</th>\n",
       "      <th>Meaning</th>\n",
       "      <th>Question</th>\n",
       "    </tr>\n",
       "  </thead>\n",
       "  <tbody>\n",
       "    <tr>\n",
       "      <th>0</th>\n",
       "      <td>1</td>\n",
       "      <td>able</td>\n",
       "      <td>having the skill or capability to do something</td>\n",
       "      <td>Samuel always demonstrates the capability to h...</td>\n",
       "    </tr>\n",
       "    <tr>\n",
       "      <th>1</th>\n",
       "      <td>2</td>\n",
       "      <td>abundant</td>\n",
       "      <td>existing in large quantities</td>\n",
       "      <td>Samuel always has a large quantity of creative...</td>\n",
       "    </tr>\n",
       "    <tr>\n",
       "      <th>2</th>\n",
       "      <td>3</td>\n",
       "      <td>accurate</td>\n",
       "      <td>correct and free from error</td>\n",
       "      <td>Samuel always provides correct and error-free ...</td>\n",
       "    </tr>\n",
       "  </tbody>\n",
       "</table>\n",
       "</div>"
      ],
      "text/plain": [
       "   id Adjective                                         Meaning  \\\n",
       "0   1      able  having the skill or capability to do something   \n",
       "1   2  abundant                    existing in large quantities   \n",
       "2   3  accurate                     correct and free from error   \n",
       "\n",
       "                                            Question  \n",
       "0  Samuel always demonstrates the capability to h...  \n",
       "1  Samuel always has a large quantity of creative...  \n",
       "2  Samuel always provides correct and error-free ...  "
      ]
     },
     "execution_count": 1,
     "metadata": {},
     "output_type": "execute_result"
    }
   ],
   "source": [
    "import pandas as pd\n",
    "import numpy as np \n",
    "df = pd.read_csv(\"adjectives_1_1000.csv\")\n",
    "df.head(3)"
   ]
  },
  {
   "cell_type": "code",
   "execution_count": 11,
   "id": "b759e108",
   "metadata": {},
   "outputs": [
    {
     "data": {
      "text/plain": [
       "(377, 4)"
      ]
     },
     "execution_count": 11,
     "metadata": {},
     "output_type": "execute_result"
    }
   ],
   "source": [
    "df.drop_duplicates(subset=['Adjective'], inplace=True)\n",
    "df.shape"
   ]
  },
  {
   "cell_type": "code",
   "execution_count": 1,
   "id": "5caa317f",
   "metadata": {},
   "outputs": [
    {
     "name": "stdout",
     "output_type": "stream",
     "text": [
      "Total number of lines in words.txt: 3000\n"
     ]
    }
   ],
   "source": [
    "with open (\"common_words.txt\", \"r\") as f:\n",
    "    line_count = sum(1 for line in f)\n",
    "print(f\"Total number of lines in words.txt: {line_count}\")"
   ]
  },
  {
   "cell_type": "code",
   "execution_count": null,
   "id": "78568065",
   "metadata": {},
   "outputs": [],
   "source": [
    "import requests\n",
    "import json\n",
    "import time\n",
    "\n",
    "# === CONFIGURATION ===\n",
    "INPUT_FILE = 'common_words.txt'\n",
    "OUTPUT_FILE = 'meanings.txt'\n",
    "API_URL = 'https://your-api-endpoint.com/generate'  # <-- replace with your actual endpoint\n",
    "BATCH_SIZE = 100\n",
    "HEADERS = {'Content-Type': 'application/json'}\n",
    "\n",
    "# === Read the 3000 words ===\n",
    "with open(INPUT_FILE, 'r', encoding='utf-8') as file:\n",
    "    words = [line.strip() for line in file if line.strip()]\n",
    "\n",
    "# === Process in batches ===\n",
    "for i in range(0, len(words), BATCH_SIZE):\n",
    "    batch = words[i:i + BATCH_SIZE]\n",
    "\n",
    "    # ==== SEND TO AI API ====\n",
    "    payload = {\n",
    "        \"words\": batch  # Modify based on your actual API's expected input\n",
    "    }\n",
    "\n",
    "    try:\n",
    "        # === Replace this with actual API call ===\n",
    "        # response = requests.post(API_URL, headers=HEADERS, json=payload)\n",
    "        # data = response.json()\n",
    "\n",
    "        # === MOCKED RESPONSE (for illustration) ===\n",
    "        data = [\n",
    "            {\n",
    "                \"id\": str(j + 1 + i),\n",
    "                \"Adjective\": word,\n",
    "                \"Meaning\": f\"Meaning of {word}\",\n",
    "                \"Question\": f\"What adjective best fits in: Samuel always shows {word}?\"\n",
    "            } for j, word in enumerate(batch)\n",
    "        ]\n",
    "\n",
    "        # === Write results to file ===\n",
    "        with open(OUTPUT_FILE, 'a', encoding='utf-8') as outfile:\n",
    "            for item in data:\n",
    "                json_line = json.dumps(item, ensure_ascii=False)\n",
    "                outfile.write(json_line + '\\n')\n",
    "\n",
    "        print(f\"✅ Batch {i//BATCH_SIZE + 1} done: {len(batch)} words\")\n",
    "        time.sleep(1)  # Respect API rate limits\n",
    "\n",
    "    except Exception as e:\n",
    "        print(f\"❌ Error in batch {i//BATCH_SIZE + 1}: {e}\")\n",
    "        break"
   ]
  }
 ],
 "metadata": {
  "kernelspec": {
   "display_name": "Python 3",
   "language": "python",
   "name": "python3"
  },
  "language_info": {
   "codemirror_mode": {
    "name": "ipython",
    "version": 3
   },
   "file_extension": ".py",
   "mimetype": "text/x-python",
   "name": "python",
   "nbconvert_exporter": "python",
   "pygments_lexer": "ipython3",
   "version": "3.11.5"
  }
 },
 "nbformat": 4,
 "nbformat_minor": 5
}
